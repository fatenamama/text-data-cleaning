{
 "cells": [
  {
   "cell_type": "code",
   "execution_count": 1,
   "metadata": {},
   "outputs": [
    {
     "name": "stdout",
     "output_type": "stream",
     "text": [
      "[nltk_data] Downloading package stopwords to /Users/faten/nltk_data...\n",
      "[nltk_data]   Package stopwords is already up-to-date!\n",
      "Reading english - 1grams ...\n"
     ]
    }
   ],
   "source": [
    "import pandas as pd\n",
    "import gensim\n",
    "import nltk\n",
    "nltk.download(\"stopwords\")\n",
    "from nltk.corpus import stopwords\n",
    "import csv\n",
    "from datetime import datetime, timedelta\n",
    "import html.parser\n",
    "html_parser = html.parser.HTMLParser()\n",
    "from ftfy import fix_text # Fix any unicode problem\n",
    "import re\n",
    "import itertools\n",
    "from ekphrasis.classes.preprocessor import TextPreProcessor\n",
    "from ekphrasis.classes.tokenizer import SocialTokenizer\n",
    "from ekphrasis.dicts.emoticons import emoticons\n",
    "from ekphrasis.classes.segmenter import Segmenter\n",
    "from ekphrasis.classes.spellcorrect import SpellCorrector\n",
    "from ekphrasis.classes.tokenizer import SocialTokenizer\n",
    "from autocorrect import spell\n",
    "sp = SpellCorrector(corpus=\"english\")"
   ]
  },
  {
   "cell_type": "code",
   "execution_count": 2,
   "metadata": {
    "collapsed": true
   },
   "outputs": [],
   "source": [
    "# After scandal\n",
    "df = pd.read_csv(\"output_month_after_scandal.csv\",  sep=\";\",engine='python', header=None, skip_blank_lines=1) # Read the folder of tweets\n",
    "new_header = df.iloc[0] #grab the first row for the header\n",
    "df = df[1:] #take the data less the header row\n",
    "df.columns = new_header #set the header row as the df header\n",
    "df['date'] = pd.to_datetime(df['date'], dayfirst=True, errors='coerce')\n",
    "df['Date'] = [d.date() for d in df['date']]\n",
    "df['Time'] = [d.time() for d in df['date']]\n",
    "#df = df.drop(df.columns[[1,4,8,9,10,11,12,13,14]], axis=1) #drop invalid columns ('geo','nan','date')\n",
    "tweets = df['text'].tolist()"
   ]
  },
  {
   "cell_type": "code",
   "execution_count": 3,
   "metadata": {},
   "outputs": [
    {
     "data": {
      "text/plain": [
       "['Volkswagen Ordered To Recall 500K Vehicles Over Its Own Malicious Programming http:// bit.ly/1OjPG0x',\n",
       " 'What. The. Actual. Fuck. http:// nyti.ms/1iouQjb #volkswagen #emissions (h/t @alexandernl )',\n",
       " '@latimesphotos @Volkswagen Have we just given up on English?',\n",
       " 'Seriously though, what the fuck Volkswagen',\n",
       " 'Volkswagen , Audi accused of using software to cheat US diesel emissions tests http:// fb.me/3iL9CIqZy',\n",
       " 'Jorge R Ruiz: Volkswagen , Audi accused of using software to cheat US diesel emissions tests: In a... http:// yhoo.it/1QN36Ap @Tech_Minute',\n",
       " '#vwbeetle Volkswagen : Beetle - Classic 1969 volkswagon convertible: $5,000.00 (1 Bid)End Date: Friday Sep-25... http:// ebay.to/1gyU0uf',\n",
       " '#BLG VW cheated on emissions tests: The EPA says Volkswagen installed software to cheat on emissions tests. US... http:// usat.ly/1Pa00p4',\n",
       " \"VW cheated on emissions tests: The EPA says Volkswagen installed software to cheat on emissions tests. USA TODAY's Chris Woodyard rep...\",\n",
       " 'VW cheated on emissions tests: The EPA says Volkswagen installed software to cheat on emissions tests. USA TOD... http:// usat.ly/1Pa00p4',\n",
       " \"EPA: Volkswagen used 'defeat device' to illegally skirt air-pollution controls - Washington Post http:// goo.gl/hY6zRw #News\",\n",
       " 'VW cheated on emissions tests: The EPA says Volkswagen installed software to cheat on emissions tests. USA TOD... http:// usat.ly/1iWj1RC',\n",
       " 'VW cheated on emissions tests: The EPA says Volkswagen installed software to cheat on emissions tests. USA TOD... http:// usat.ly/1Pa00p4',\n",
       " '#News Volkswagen , Audi accused of using software to cheat US diesel emissions tests: In an open letter to the ... http:// bit.ly/1K7PGdG',\n",
       " 'Volkswagen committed massive pollution control fraud. Software only turned on pollution controls when autos were... http:// fb.me/3vwwYV5Fi',\n",
       " '#Automobile Volkswagen , Audi accused of using software to cheat US diesel emissions tests: F... http:// bit.ly/1P9ZNSK #Volkswagen #cars',\n",
       " '#Automobile Volkswagen to recall 500000 pollution-hiding cars in US: German carmaker Volkswa... http:// bit.ly/1P9ZPdB #Volkswagen #cars',\n",
       " 'Volkswagen to recall 482,000 cars from 09-15 accused of installing software designed to breach diesel emission rules. http:// bos.gl/ulqmLfx',\n",
       " 'Volkswagen , a car company invented by Hitler, caught secretly poisoning the Earth http://www. npr.org/sections/thetw o-way/2015/09/18/441467960/volkswagen-used-defeat-device-to-skirt-emissions-rules-epa-says …',\n",
       " 'Volkswagen , Audi accused of using software to cheat US diesel emissions\\xa0tests http://www. expressivus.com/volkswagen-aud i-accused-of-using-software-to-cheat-us-diesel-emissions-tests/ …']"
      ]
     },
     "execution_count": 3,
     "metadata": {},
     "output_type": "execute_result"
    }
   ],
   "source": [
    "tweets = tweets[0:20]\n",
    "tweets"
   ]
  },
  {
   "cell_type": "code",
   "execution_count": 4,
   "metadata": {},
   "outputs": [
    {
     "name": "stderr",
     "output_type": "stream",
     "text": [
      "/Users/faten/anaconda3/lib/python3.6/site-packages/ipykernel_launcher.py:5: DeprecationWarning: The unescape method is deprecated and will be removed in 3.5, use html.unescape() instead.\n",
      "  \"\"\"\n"
     ]
    },
    {
     "data": {
      "text/plain": [
       "['Volkswagen Ordered To Recall 500K Vehicles Over Its Own Malicious Programming http:// bit.ly/1OjPG0x',\n",
       " 'What. The. Actual. Fuck. http:// nyti.ms/1iouQjb #volkswagen #emissions (h/t @alexandernl )',\n",
       " '@latimesphotos @Volkswagen Have we just given up on English?',\n",
       " 'Seriously though, what the fuck Volkswagen',\n",
       " 'Volkswagen , Audi accused of using software to cheat US diesel emissions tests http:// fb.me/3iL9CIqZy',\n",
       " 'Jorge R Ruiz: Volkswagen , Audi accused of using software to cheat US diesel emissions tests: In a... http:// yhoo.it/1QN36Ap @Tech_Minute',\n",
       " '#vwbeetle Volkswagen : Beetle - Classic 1969 volkswagon convertible: $5,000.00 (1 Bid)End Date: Friday Sep-25... http:// ebay.to/1gyU0uf',\n",
       " '#BLG VW cheated on emissions tests: The EPA says Volkswagen installed software to cheat on emissions tests. US... http:// usat.ly/1Pa00p4',\n",
       " \"VW cheated on emissions tests: The EPA says Volkswagen installed software to cheat on emissions tests. USA TODAY's Chris Woodyard rep...\",\n",
       " 'VW cheated on emissions tests: The EPA says Volkswagen installed software to cheat on emissions tests. USA TOD... http:// usat.ly/1Pa00p4',\n",
       " \"EPA: Volkswagen used 'defeat device' to illegally skirt air-pollution controls - Washington Post http:// goo.gl/hY6zRw #News\",\n",
       " 'VW cheated on emissions tests: The EPA says Volkswagen installed software to cheat on emissions tests. USA TOD... http:// usat.ly/1iWj1RC',\n",
       " 'VW cheated on emissions tests: The EPA says Volkswagen installed software to cheat on emissions tests. USA TOD... http:// usat.ly/1Pa00p4',\n",
       " '#News Volkswagen , Audi accused of using software to cheat US diesel emissions tests: In an open letter to the ... http:// bit.ly/1K7PGdG',\n",
       " 'Volkswagen committed massive pollution control fraud. Software only turned on pollution controls when autos were... http:// fb.me/3vwwYV5Fi',\n",
       " '#Automobile Volkswagen , Audi accused of using software to cheat US diesel emissions tests: F... http:// bit.ly/1P9ZNSK #Volkswagen #cars',\n",
       " '#Automobile Volkswagen to recall 500000 pollution-hiding cars in US: German carmaker Volkswa... http:// bit.ly/1P9ZPdB #Volkswagen #cars',\n",
       " 'Volkswagen to recall 482,000 cars from 09-15 accused of installing software designed to breach diesel emission rules. http:// bos.gl/ulqmLfx',\n",
       " 'Volkswagen , a car company invented by Hitler, caught secretly poisoning the Earth http://www. npr.org/sections/thetw o-way/2015/09/18/441467960/volkswagen-used-defeat-device-to-skirt-emissions-rules-epa-says …',\n",
       " 'Volkswagen , Audi accused of using software to cheat US diesel emissions\\xa0tests http://www. expressivus.com/volkswagen-aud i-accused-of-using-software-to-cheat-us-diesel-emissions-tests/ …']"
      ]
     },
     "execution_count": 4,
     "metadata": {},
     "output_type": "execute_result"
    }
   ],
   "source": [
    "#Escaping HTML characters + Fixing any unicode problem\n",
    "# for example : \"&lt;3\" is converted to '<3'\n",
    "parser_tweets = []\n",
    "for tweet in tweets:\n",
    "    tweet = html_parser.unescape(tweet)\n",
    "    tweet = fix_text(tweet) # Fix any unicode problem\n",
    "    parser_tweets.append(tweet)\n",
    "parser_tweets"
   ]
  },
  {
   "cell_type": "code",
   "execution_count": 5,
   "metadata": {},
   "outputs": [
    {
     "data": {
      "text/plain": [
       "['Volkswagen Ordered To Recall 500K Vehicles Over Its Own Malicious Programming ',\n",
       " 'What. The. Actual. Fuck. ',\n",
       " '@latimesphotos @Volkswagen Have we just given up on English?',\n",
       " 'Seriously though, what the fuck Volkswagen',\n",
       " 'Volkswagen , Audi accused of using software to cheat US diesel emissions tests ',\n",
       " 'Jorge R Ruiz: Volkswagen , Audi accused of using software to cheat US diesel emissions tests: In a... ',\n",
       " '#vwbeetle Volkswagen : Beetle - Classic 1969 volkswagon convertible: $5,000.00 (1 Bid)End Date: Friday Sep-25... ',\n",
       " '#BLG VW cheated on emissions tests: The EPA says Volkswagen installed software to cheat on emissions tests. US... ',\n",
       " \"VW cheated on emissions tests: The EPA says Volkswagen installed software to cheat on emissions tests. USA TODAY's Chris Woodyard rep...\",\n",
       " 'VW cheated on emissions tests: The EPA says Volkswagen installed software to cheat on emissions tests. USA TOD... ',\n",
       " \"EPA: Volkswagen used 'defeat device' to illegally skirt air-pollution controls - Washington Post \",\n",
       " 'VW cheated on emissions tests: The EPA says Volkswagen installed software to cheat on emissions tests. USA TOD... ',\n",
       " 'VW cheated on emissions tests: The EPA says Volkswagen installed software to cheat on emissions tests. USA TOD... ',\n",
       " '#News Volkswagen , Audi accused of using software to cheat US diesel emissions tests: In an open letter to the ... ',\n",
       " 'Volkswagen committed massive pollution control fraud. Software only turned on pollution controls when autos were... ',\n",
       " '#Automobile Volkswagen , Audi accused of using software to cheat US diesel emissions tests: F... ',\n",
       " '#Automobile Volkswagen to recall 500000 pollution-hiding cars in US: German carmaker Volkswa... ',\n",
       " 'Volkswagen to recall 482,000 cars from 09-15 accused of installing software designed to breach diesel emission rules. ',\n",
       " 'Volkswagen , a car company invented by Hitler, caught secretly poisoning the Earth ',\n",
       " 'Volkswagen , Audi accused of using software to cheat US diesel emissions\\xa0tests ']"
      ]
     },
     "execution_count": 5,
     "metadata": {},
     "output_type": "execute_result"
    }
   ],
   "source": [
    "#Removal of URLs\n",
    "no_url_tweets=[]\n",
    "for tweet in parser_tweets : \n",
    "    tweet = re.sub(r'https?:\\/\\/.*[\\r\\n]*', '', tweet, flags=re.MULTILINE)\n",
    "    no_url_tweets.append(tweet)\n",
    "no_url_tweets"
   ]
  },
  {
   "cell_type": "code",
   "execution_count": 6,
   "metadata": {
    "collapsed": true
   },
   "outputs": [],
   "source": [
    "#define the dictionary of APPOSTOPHES\n",
    "APPOSTOPHES = {\"aren't\" : \"are not\",\"can't\" : \"cannot\",\"couldn't\" : \"could not\",\"didn't\" : \"did not\",\"doesn't\" : \"does not\",\"don't\" : \"do not\",\n",
    "\"hadn't\" : \"had not\",\"hasn't\" : \"has not\",\"haven't\" : \"have not\",\"he'd\" : \"he would\",\"he'll\" : \"he will\",\"he's\" : \"he is\",\"i'd\" : \"I would\",\n",
    "\"i'd\" : \"I had\",\"i'll\" : \"I will\",\"i'm\" : \"I am\",\"isn't\" : \"is not\",\"it's\" : \"it is\",\"it'll\":\"it will\",\"i've\" : \"I have\",\"let's\" : \"let us\",\"mightn't\" : \"might not\",\"mustn't\" : \"must not\",\"shan't\" : \"shall not\",\"she'd\" : \"she would\",\"she'll\" : \"she will\",\"she's\" : \"she is\",\"shouldn't\" : \"should not\",\"that's\" : \"that is\",\"there's\" : \"there is\",\"they'd\" : \"they would\",\"they'll\" : \"they will\",\"they're\" : \"they are\",\"they've\" : \"they have\",\"we'd\" : \"we would\",\"we're\" : \"we are\",\"weren't\" : \"were not\",\"we've\" : \"we have\",\"what'll\" : \"what will\",\"what're\" : \"what are\",\"what's\" : \"what is\",\"what've\" : \"what have\",\"where's\" : \"where is\",\"who'd\" : \"who would\",\"who'll\" : \"who will\",\"who're\" : \"who are\",\"who's\" : \"who is\",\"who've\" : \"who have\",\"won't\" : \"will not\",\"wouldn't\" : \"would not\",\"you'd\" : \"you would\",\"you'll\" : \"you will\",\"you're\" : \"you are\",\"you've\" : \"you have\",\"'re\": \" are\",\"wasn't\": \"was not\",\"we'll\":\" will\",\n",
    "\"aren’t\" : \"are not\",\"can’t\" : \"cannot\",\"couldn’t\" : \"could not\",\"didn’t\" : \"did not\",\"doesn’t\" : \"does not\",\"don’t\" : \"do not\",\n",
    "\"hadn’t\" : \"had not\",\"hasn’t\" : \"has not\",\"haven’t\" : \"have not\",\"he’d\" : \"he would\",\"he’ll\" : \"he will\",\"he’s\" : \"he is\",\"i’d\" : \"I would\",\n",
    "\"i’d\" : \"I had\",\"i’ll\" : \"I will\",\"i’m\" : \"I am\",\"isn’t\" : \"is not\",\"it’s\" : \"it is\",\"it’ll\":\"it will\",\"i’ve\" : \"I have\",\"let’s\" : \"let us\",\"mightn’t\" : \"might not\",\"mustn’t\" : \"must not\",\"shan’t\" : \"shall not\",\"she’d\" : \"she would\",\"she’ll\" : \"she will\",\"she’s\" : \"she is\",\"shouldn’t\" : \"should not\",\"that’s\" : \"that is\",\"there’s\" : \"there is\",\"they’d\" : \"they would\",\"they’ll\" : \"they will\",\"they’re\" : \"they are\",\"they’ve\" : \"they have\",\"we’d\" : \"we would\",\"we’re\" : \"we are\",\"weren’t\" : \"were not\",\"we’ve\" : \"we have\",\"what’ll\" : \"what will\",\"what’re\" : \"what are\",\"what’s\" : \"what is\",\"what’ve\" : \"what have\",\"where’s\" : \"where is\",\"who’d\" : \"who would\",\"who’ll\" : \"who will\",\"who’re\" : \"who are\",\"who’s\" : \"who is\",\"who’ve\" : \"who have\",\"won’t\" : \"will not\",\"wouldn’t\" : \"would not\",\"you’d\" : \"you would\",\"you’ll\" : \"you will\",\"you’re\" : \"you are\",\"you’ve\" : \"you have\",\"’re\": \" are\",\"wasn’t\": \"was not\",\"we’ll\":\" will\",\"didn’t\": \"did not\"\n",
    "}"
   ]
  },
  {
   "cell_type": "code",
   "execution_count": 7,
   "metadata": {},
   "outputs": [
    {
     "data": {
      "text/plain": [
       "['Volkswagen Ordered To Recall 500K Vehicles Over Its Own Malicious Programming',\n",
       " 'What. The. Actual. Fuck.',\n",
       " '@latimesphotos @Volkswagen Have we just given up on English?',\n",
       " 'Seriously though, what the fuck Volkswagen',\n",
       " 'Volkswagen , Audi accused of using software to cheat US diesel emissions tests',\n",
       " 'Jorge R Ruiz: Volkswagen , Audi accused of using software to cheat US diesel emissions tests: In a...',\n",
       " '#vwbeetle Volkswagen : Beetle - Classic 1969 volkswagon convertible: $5,000.00 (1 Bid)End Date: Friday Sep-25...',\n",
       " '#BLG VW cheated on emissions tests: The EPA says Volkswagen installed software to cheat on emissions tests. US...',\n",
       " \"VW cheated on emissions tests: The EPA says Volkswagen installed software to cheat on emissions tests. USA TODAY's Chris Woodyard rep...\",\n",
       " 'VW cheated on emissions tests: The EPA says Volkswagen installed software to cheat on emissions tests. USA TOD...',\n",
       " \"EPA: Volkswagen used 'defeat device' to illegally skirt air-pollution controls - Washington Post\",\n",
       " 'VW cheated on emissions tests: The EPA says Volkswagen installed software to cheat on emissions tests. USA TOD...',\n",
       " 'VW cheated on emissions tests: The EPA says Volkswagen installed software to cheat on emissions tests. USA TOD...',\n",
       " '#News Volkswagen , Audi accused of using software to cheat US diesel emissions tests: In an open letter to the ...',\n",
       " 'Volkswagen committed massive pollution control fraud. Software only turned on pollution controls when autos were...',\n",
       " '#Automobile Volkswagen , Audi accused of using software to cheat US diesel emissions tests: F...',\n",
       " '#Automobile Volkswagen to recall 500000 pollution-hiding cars in US: German carmaker Volkswa...',\n",
       " 'Volkswagen to recall 482,000 cars from 09-15 accused of installing software designed to breach diesel emission rules.',\n",
       " 'Volkswagen , a car company invented by Hitler, caught secretly poisoning the Earth',\n",
       " 'Volkswagen , Audi accused of using software to cheat US diesel emissions tests']"
      ]
     },
     "execution_count": 7,
     "metadata": {},
     "output_type": "execute_result"
    }
   ],
   "source": [
    "no_appos_tweets = []\n",
    "for tweet in no_url_tweets :\n",
    "    words = tweet.split()\n",
    "    tweet = [APPOSTOPHES[word] if word in APPOSTOPHES else word for word in words]\n",
    "    tweet = \" \".join(tweet)\n",
    "    no_appos_tweets.append(tweet)\n",
    "no_appos_tweets"
   ]
  },
  {
   "cell_type": "code",
   "execution_count": 8,
   "metadata": {},
   "outputs": [
    {
     "data": {
      "text/plain": [
       "['Volkswagen Ordered To Recall 500K Vehicles Over Its Own Malicious Programming',\n",
       " 'What The Actual Fuck',\n",
       " 'latimesphotos Volkswagen Have we just given up on English',\n",
       " 'Seriously though what the fuck Volkswagen',\n",
       " 'Volkswagen  Audi accused of using software to cheat US diesel emissions tests',\n",
       " 'Jorge R Ruiz Volkswagen  Audi accused of using software to cheat US diesel emissions tests In a',\n",
       " 'vwbeetle Volkswagen  Beetle  Classic 1969 volkswagon convertible 500000 1 BidEnd Date Friday Sep25',\n",
       " 'BLG VW cheated on emissions tests The EPA says Volkswagen installed software to cheat on emissions tests US',\n",
       " 'VW cheated on emissions tests The EPA says Volkswagen installed software to cheat on emissions tests USA TODAYs Chris Woodyard rep',\n",
       " 'VW cheated on emissions tests The EPA says Volkswagen installed software to cheat on emissions tests USA TOD',\n",
       " 'EPA Volkswagen used defeat device to illegally skirt airpollution controls  Washington Post',\n",
       " 'VW cheated on emissions tests The EPA says Volkswagen installed software to cheat on emissions tests USA TOD',\n",
       " 'VW cheated on emissions tests The EPA says Volkswagen installed software to cheat on emissions tests USA TOD',\n",
       " 'News Volkswagen  Audi accused of using software to cheat US diesel emissions tests In an open letter to the ',\n",
       " 'Volkswagen committed massive pollution control fraud Software only turned on pollution controls when autos were',\n",
       " 'Automobile Volkswagen  Audi accused of using software to cheat US diesel emissions tests F',\n",
       " 'Automobile Volkswagen to recall 500000 pollutionhiding cars in US German carmaker Volkswa',\n",
       " 'Volkswagen to recall 482000 cars from 0915 accused of installing software designed to breach diesel emission rules',\n",
       " 'Volkswagen  a car company invented by Hitler caught secretly poisoning the Earth',\n",
       " 'Volkswagen  Audi accused of using software to cheat US diesel emissions tests']"
      ]
     },
     "execution_count": 8,
     "metadata": {},
     "output_type": "execute_result"
    }
   ],
   "source": [
    "#Removal of Punctuations\n",
    "def remove_ponctuation(tweet):\n",
    "    # define punctuation\n",
    "    punctuations = '''!()-![]{};:+'\"\\,<>./?@#$%^&*_~'''\n",
    "    # remove punctuation from the tweet\n",
    "    no_punct = \"\"\n",
    "    for word in tweet:\n",
    "        if word not in punctuations:\n",
    "            no_punct = no_punct + word\n",
    "    return no_punct   \n",
    "\n",
    "no_punct_tweets = []\n",
    "for tweet in no_appos_tweets:\n",
    "    tweet = remove_ponctuation(tweet)\n",
    "    no_punct_tweets.append(tweet)\n",
    "no_punct_tweets"
   ]
  },
  {
   "cell_type": "code",
   "execution_count": 9,
   "metadata": {},
   "outputs": [
    {
     "data": {
      "text/plain": [
       "['Volkswagen Ordered To Recall K Vehicles Over Its Own Malicious Programming',\n",
       " 'What The Actual Fuck',\n",
       " 'latimesphotos Volkswagen Have we just given up on English',\n",
       " 'Seriously though what the fuck Volkswagen',\n",
       " 'Volkswagen  Audi accused of using software to cheat US diesel emissions tests',\n",
       " 'Jorge R Ruiz Volkswagen  Audi accused of using software to cheat US diesel emissions tests In a',\n",
       " 'vwbeetle Volkswagen  Beetle  Classic  volkswagon convertible   BidEnd Date Friday Sep',\n",
       " 'BLG VW cheated on emissions tests The EPA says Volkswagen installed software to cheat on emissions tests US',\n",
       " 'VW cheated on emissions tests The EPA says Volkswagen installed software to cheat on emissions tests USA TODAYs Chris Woodyard rep',\n",
       " 'VW cheated on emissions tests The EPA says Volkswagen installed software to cheat on emissions tests USA TOD',\n",
       " 'EPA Volkswagen used defeat device to illegally skirt airpollution controls  Washington Post',\n",
       " 'VW cheated on emissions tests The EPA says Volkswagen installed software to cheat on emissions tests USA TOD',\n",
       " 'VW cheated on emissions tests The EPA says Volkswagen installed software to cheat on emissions tests USA TOD',\n",
       " 'News Volkswagen  Audi accused of using software to cheat US diesel emissions tests In an open letter to the ',\n",
       " 'Volkswagen committed massive pollution control fraud Software only turned on pollution controls when autos were',\n",
       " 'Automobile Volkswagen  Audi accused of using software to cheat US diesel emissions tests F',\n",
       " 'Automobile Volkswagen to recall  pollutionhiding cars in US German carmaker Volkswa',\n",
       " 'Volkswagen to recall  cars from  accused of installing software designed to breach diesel emission rules',\n",
       " 'Volkswagen  a car company invented by Hitler caught secretly poisoning the Earth',\n",
       " 'Volkswagen  Audi accused of using software to cheat US diesel emissions tests']"
      ]
     },
     "execution_count": 9,
     "metadata": {},
     "output_type": "execute_result"
    }
   ],
   "source": [
    "#Removal of digits\n",
    "no_digit_tweets = []\n",
    "for tweet in no_punct_tweets : \n",
    "    tweet = ''.join([i for i in tweet if not i.isdigit()])\n",
    "    no_digit_tweets.append(tweet)\n",
    "no_digit_tweets"
   ]
  },
  {
   "cell_type": "code",
   "execution_count": 10,
   "metadata": {},
   "outputs": [
    {
     "data": {
      "text/plain": [
       "['Volkswagen Ordered To Recall K Vehicles Over Its Own Malicious Programming',\n",
       " 'What The Actual Fuck',\n",
       " 'latimesphotos Volkswagen Have we just given up on English',\n",
       " 'Seriously though what the fuck Volkswagen',\n",
       " 'Volkswagen  Audi accused of using software to cheat US diesel emissions tests',\n",
       " 'Jorge R Ruiz Volkswagen  Audi accused of using software to cheat US diesel emissions tests In a',\n",
       " 'vwbeetle Volkswagen  Beetle  Classic  volkswagon convertible   BidEnd Date Friday Sep',\n",
       " 'BLG VW cheated on emissions tests The EPA says Volkswagen installed software to cheat on emissions tests US',\n",
       " 'VW cheated on emissions tests The EPA says Volkswagen installed software to cheat on emissions tests USA TODAYs Chris Woodyard rep',\n",
       " 'VW cheated on emissions tests The EPA says Volkswagen installed software to cheat on emissions tests USA TOD',\n",
       " 'EPA Volkswagen used defeat device to illegally skirt airpollution controls  Washington Post',\n",
       " 'VW cheated on emissions tests The EPA says Volkswagen installed software to cheat on emissions tests USA TOD',\n",
       " 'VW cheated on emissions tests The EPA says Volkswagen installed software to cheat on emissions tests USA TOD',\n",
       " 'News Volkswagen  Audi accused of using software to cheat US diesel emissions tests In an open letter to the ',\n",
       " 'Volkswagen committed massive pollution control fraud Software only turned on pollution controls when autos were',\n",
       " 'Automobile Volkswagen  Audi accused of using software to cheat US diesel emissions tests F',\n",
       " 'Automobile Volkswagen to recall  pollutionhiding cars in US German carmaker Volkswa',\n",
       " 'Volkswagen to recall  cars from  accused of installing software designed to breach diesel emission rules',\n",
       " 'Volkswagen  a car company invented by Hitler caught secretly poisoning the Earth',\n",
       " 'Volkswagen  Audi accused of using software to cheat US diesel emissions tests']"
      ]
     },
     "execution_count": 10,
     "metadata": {},
     "output_type": "execute_result"
    }
   ],
   "source": [
    "#Removal of  emoticons, symbols & pictographs, transport & map symbols and flags (iOS)\n",
    "no_emoji_tweets = []\n",
    "for tweet in no_digit_tweets:\n",
    "    emoji_pattern = re.compile(\"[\"\n",
    "    u\"\\U0001F600-\\U0001F64F\"  # emoticons\n",
    "    u\"\\U0001F300-\\U0001F5FF\"  # symbols & pictographs\n",
    "    u\"\\U0001F680-\\U0001F6FF\"  # transport & map symbols\n",
    "    u\"\\U0001F1E0-\\U0001F1FF\"  # flags (iOS)\n",
    "    \"]+\", flags=re.UNICODE)\n",
    "    tweet = emoji_pattern.sub(r'', tweet)\n",
    "    no_emoji_tweets.append(tweet)\n",
    "\n",
    "no_emoji_tweets"
   ]
  },
  {
   "cell_type": "code",
   "execution_count": 11,
   "metadata": {},
   "outputs": [
    {
     "data": {
      "text/plain": [
       "['volkswagen ordered to recall k vehicles over its own malicious programming',\n",
       " 'what the actual fuck',\n",
       " 'latimesphotos volkswagen have we just given up on english',\n",
       " 'seriously though what the fuck volkswagen',\n",
       " 'volkswagen  audi accused of using software to cheat us diesel emissions tests',\n",
       " 'jorge r ruiz volkswagen  audi accused of using software to cheat us diesel emissions tests in a',\n",
       " 'vwbeetle volkswagen  beetle  classic  volkswagon convertible   bidend date friday sep',\n",
       " 'blg vw cheated on emissions tests the epa says volkswagen installed software to cheat on emissions tests us',\n",
       " 'vw cheated on emissions tests the epa says volkswagen installed software to cheat on emissions tests usa todays chris woodyard rep',\n",
       " 'vw cheated on emissions tests the epa says volkswagen installed software to cheat on emissions tests usa tod',\n",
       " 'epa volkswagen used defeat device to illegally skirt airpollution controls  washington post',\n",
       " 'vw cheated on emissions tests the epa says volkswagen installed software to cheat on emissions tests usa tod',\n",
       " 'vw cheated on emissions tests the epa says volkswagen installed software to cheat on emissions tests usa tod',\n",
       " 'news volkswagen  audi accused of using software to cheat us diesel emissions tests in an open letter to the ',\n",
       " 'volkswagen committed massive pollution control fraud software only turned on pollution controls when autos were',\n",
       " 'automobile volkswagen  audi accused of using software to cheat us diesel emissions tests f',\n",
       " 'automobile volkswagen to recall  pollutionhiding cars in us german carmaker volkswa',\n",
       " 'volkswagen to recall  cars from  accused of installing software designed to breach diesel emission rules',\n",
       " 'volkswagen  a car company invented by hitler caught secretly poisoning the earth',\n",
       " 'volkswagen  audi accused of using software to cheat us diesel emissions tests']"
      ]
     },
     "execution_count": 11,
     "metadata": {},
     "output_type": "execute_result"
    }
   ],
   "source": [
    "#convert to lowercase\n",
    "lower_tweets = []\n",
    "for tweet in no_emoji_tweets : \n",
    "    tweet = tweet.lower()\n",
    "    lower_tweets.append(tweet)\n",
    "lower_tweets"
   ]
  },
  {
   "cell_type": "code",
   "execution_count": 12,
   "metadata": {},
   "outputs": [
    {
     "name": "stdout",
     "output_type": "stream",
     "text": [
      "Reading twitter - 1grams ...\n",
      "Reading twitter - 2grams ...\n"
     ]
    },
    {
     "data": {
      "text/plain": [
       "['volkswagen  ordered to  recall  k vehicles  over  its own malicious  programming',\n",
       " 'what  the actual  fuck',\n",
       " 'latimes photos  volkswagen have we  just  given up on  english',\n",
       " 'seriously   though  what the fuck  volkswagen',\n",
       " 'volkswagen   audi accused of  using  software to cheat u s diesel emissions  tests',\n",
       " 'jorge r ruiz  volkswagen   audi  accused  of using  software  to cheat us diesel  emissions  tests in a',\n",
       " 'vw beetle   volkswagen   beetle  classic   volkswagon  convertible   biden d date friday sep',\n",
       " 'blg vw cheated on  emissions  tests the epa says  volkswagen  installed  software  to cheat on  emissions  tests us',\n",
       " 'vw cheated on  emissions  tests the epa says  volkswagen  installed  software  to cheat on  emissions  tests usa  today s chris woodyard rep',\n",
       " 'vw cheated on  emissions  tests the epa says  volkswagen  installed  software  to cheat on  emissions  tests usa tod',\n",
       " 'epa  volkswagen  used defeat  device  to illegally skirt  air pollution  controls   washington   post',\n",
       " 'vw cheated on  emissions  tests the epa says  volkswagen  installed  software  to cheat on  emissions  tests usa tod',\n",
       " 'vw cheated on  emissions  tests the epa says  volkswagen  installed  software  to cheat on  emissions  tests usa tod',\n",
       " 'news  volkswagen  audi  accused  of using  software  to cheat us diesel  emissions  tests in an open  letter  to the ',\n",
       " 'volkswagen  committed massive  pollution  control fraud  software  only turned on  pollution   control s when autos  were',\n",
       " 'automobile  volkswagen  audi  accused  of using  software  to cheat us diesel  emissions  tests f',\n",
       " 'automobile   volkswagen  to recall   pollution hiding  cars in us  german  carmaker volkswa',\n",
       " 'volkswagen  to recall  cars  from   accused of  installing  software  designed  to breach diesel e mission   rules',\n",
       " 'volkswagen   a car company  invented  by hitler caught  secretly  poisoning the  earth',\n",
       " 'volkswagen   audi accused of  using  software to cheat u s diesel emissions  tests']"
      ]
     },
     "execution_count": 12,
     "metadata": {},
     "output_type": "execute_result"
    }
   ],
   "source": [
    "#Split attached words (segmentation) :segmenter using the word statistics from Twitter\n",
    "\n",
    "seg_tw = Segmenter(corpus=\"twitter\")\n",
    "\n",
    "no_attach_tweets = []\n",
    "for tweet in lower_tweets:\n",
    "    cleaned_tweet = seg_tw.segment(tweet)\n",
    "    no_attach_tweets.append(cleaned_tweet)\n",
    "no_attach_tweets"
   ]
  },
  {
   "cell_type": "code",
   "execution_count": 13,
   "metadata": {},
   "outputs": [
    {
     "data": {
      "text/plain": [
       "['volkswagen  ordered to  recall  k vehicles  over  its own malicious  programming',\n",
       " 'what  the actual  fuck',\n",
       " 'latimes photos  volkswagen have we  just  given up on  english',\n",
       " 'seriously   though  what the fuck  volkswagen',\n",
       " 'volkswagen   audi accused of  using  software to cheat u s diesel emissions  tests',\n",
       " ' Jorge-R-Ruiz  volkswagen   audi  accused  of using  software  to cheat us diesel  emissions  tests in a',\n",
       " ' volkswagen  beetle   volkswagen   beetle  classic   volkswagon  convertible   biden d date friday sep',\n",
       " 'blg  volkswagen  cheated on  emissions  tests the Environmental-Protection-Agency says  volkswagen  installed  software  to cheat on  emissions  tests us',\n",
       " ' volkswagen  cheated on  emissions  tests the Environmental-Protection-Agency says  volkswagen  installed  software  to cheat on  emissions  tests united-states  today s chris woodyard rep',\n",
       " ' volkswagen  cheated on  emissions  tests the Environmental-Protection-Agency says  volkswagen  installed  software  to cheat on  emissions  tests united-states tod',\n",
       " 'epa  volkswagen  used defeat  device  to illegally skirt  air pollution  controls   washington   post',\n",
       " ' volkswagen  cheated on  emissions  tests the Environmental-Protection-Agency says  volkswagen  installed  software  to cheat on  emissions  tests united-states tod',\n",
       " ' volkswagen  cheated on  emissions  tests the Environmental-Protection-Agency says  volkswagen  installed  software  to cheat on  emissions  tests united-states tod',\n",
       " 'news  volkswagen  audi  accused  of using  software  to cheat us diesel  emissions  tests in an open  letter  to the ',\n",
       " 'volkswagen  committed massive  pollution  control fraud  software  only turned on  pollution   control s when autos  were',\n",
       " 'automobile  volkswagen  audi  accused  of using  software  to cheat us diesel  emissions  tests f',\n",
       " 'automobile   volkswagen  to recall   pollution hiding  cars in us  german  carmaker volkswa',\n",
       " 'volkswagen  to recall  cars  from   accused of  installing  software  designed  to breach diesel e mission   rules',\n",
       " 'volkswagen   a car company  invented  by hitler caught  secretly  poisoning the  earth',\n",
       " 'volkswagen   audi accused of  using  software to cheat u s diesel emissions  tests']"
      ]
     },
     "execution_count": 13,
     "metadata": {},
     "output_type": "execute_result"
    }
   ],
   "source": [
    "#Expand usual terms used in the field\n",
    "expands_file ='expands.txt'\n",
    "def get_list(file):\n",
    "    with open(file, mode='r') as file:\n",
    "        terms = csv.reader(file)\n",
    "        return {rows[0]:rows[1] for rows in terms}\n",
    "    \n",
    "def expand_terms(words):\n",
    "    expands = get_list(expands_file)\n",
    "    for key in expands:\n",
    "        words = words.replace(key, expands[key])\n",
    "    return words\n",
    "\n",
    "expand_tweets = []\n",
    "for tweet in no_attach_tweets:\n",
    "    tweet = expand_terms(tweet)\n",
    "    expand_tweets.append(tweet)\n",
    "\n",
    "expand_tweets"
   ]
  },
  {
   "cell_type": "code",
   "execution_count": 14,
   "metadata": {},
   "outputs": [
    {
     "data": {
      "text/plain": [
       "['volkswagen  ordered to  recall  k vehicles  over  its own malicious  programming',\n",
       " 'what  the actual  fuck',\n",
       " 'latimes photos  volkswagen have we  just  given up on  english',\n",
       " 'seriously  though  what the fuck  volkswagen',\n",
       " 'volkswagen  audi accused of  using  software to cheat u s diesel emissions  tests',\n",
       " ' Jorge-R-Ruiz  volkswagen  audi  accused  of using  software  to cheat us diesel  emissions  tests in a',\n",
       " ' volkswagen  beetle  volkswagen  beetle  classic  volkswagon  convertible  biden d date friday sep',\n",
       " 'blg  volkswagen  cheated on  emissions  tests the Environmental-Protection-Agency says  volkswagen  installed  software  to cheat on  emissions  tests us',\n",
       " ' volkswagen  cheated on  emissions  tests the Environmental-Protection-Agency says  volkswagen  installed  software  to cheat on  emissions  tests united-states  today s chris woodyard rep',\n",
       " ' volkswagen  cheated on  emissions  tests the Environmental-Protection-Agency says  volkswagen  installed  software  to cheat on  emissions  tests united-states tod',\n",
       " 'epa  volkswagen  used defeat  device  to illegally skirt  air pollution  controls  washington  post',\n",
       " ' volkswagen  cheated on  emissions  tests the Environmental-Protection-Agency says  volkswagen  installed  software  to cheat on  emissions  tests united-states tod',\n",
       " ' volkswagen  cheated on  emissions  tests the Environmental-Protection-Agency says  volkswagen  installed  software  to cheat on  emissions  tests united-states tod',\n",
       " 'news  volkswagen  audi  accused  of using  software  to cheat us diesel  emissions  tests in an open  letter  to the ',\n",
       " 'volkswagen  committed massive  pollution  control fraud  software  only turned on  pollution  control s when autos  were',\n",
       " 'automobile  volkswagen  audi  accused  of using  software  to cheat us diesel  emissions  tests f',\n",
       " 'automobile  volkswagen  to recall  pollution hiding  cars in us  german  carmaker volkswa',\n",
       " 'volkswagen  to recall  cars  from  accused of  installing  software  designed  to breach diesel e mission  rules',\n",
       " 'volkswagen  a car company  invented  by hitler caught  secretly  poisoning the  earth',\n",
       " 'volkswagen  audi accused of  using  software to cheat u s diesel emissions  tests']"
      ]
     },
     "execution_count": 14,
     "metadata": {},
     "output_type": "execute_result"
    }
   ],
   "source": [
    "#Standarizing words\n",
    "standard_tweets = []\n",
    "for tweet in expand_tweets :\n",
    "    tweet = ''.join(''.join(s)[:2] for _, s in itertools.groupby(tweet))\n",
    "    standard_tweets.append(tweet)\n",
    "standard_tweets"
   ]
  },
  {
   "cell_type": "code",
   "execution_count": 15,
   "metadata": {},
   "outputs": [
    {
     "data": {
      "text/plain": [
       "['volkswagen ordered recall vehicles over its own malicious programming',\n",
       " 'what the actual fuck',\n",
       " 'latimes photos volkswagen have just given english',\n",
       " 'seriously though what the fuck volkswagen',\n",
       " 'volkswagen audi accused using software cheat diesel emissions tests',\n",
       " 'Jorge-R-Ruiz volkswagen audi accused using software cheat diesel emissions tests',\n",
       " 'volkswagen beetle volkswagen beetle classic volkswagon convertible biden date friday sep',\n",
       " 'blg volkswagen cheated emissions tests the Environmental-Protection-Agency says volkswagen installed software cheat emissions tests',\n",
       " 'volkswagen cheated emissions tests the Environmental-Protection-Agency says volkswagen installed software cheat emissions tests unitedstates today chris woodyard rep',\n",
       " 'volkswagen cheated emissions tests the Environmental-Protection-Agency says volkswagen installed software cheat emissions tests unitedstates tod',\n",
       " 'epa volkswagen used defeat device illegally skirt air pollution controls washington post',\n",
       " 'volkswagen cheated emissions tests the Environmental-Protection-Agency says volkswagen installed software cheat emissions tests unitedstates tod',\n",
       " 'volkswagen cheated emissions tests the Environmental-Protection-Agency says volkswagen installed software cheat emissions tests unitedstates tod',\n",
       " 'news volkswagen audi accused using software cheat diesel emissions tests open letter the',\n",
       " 'volkswagen committed massive pollution control fraud software only turned pollution control when autos were',\n",
       " 'automobile volkswagen audi accused using software cheat diesel emissions tests',\n",
       " 'automobile volkswagen recall pollution hiding cars german carmaker volusia',\n",
       " 'volkswagen recall cars from accused installing software designed breach diesel mission rules',\n",
       " 'volkswagen car company invented hitler caught secretly poisoning the earth',\n",
       " 'volkswagen audi accused using software cheat diesel emissions tests']"
      ]
     },
     "execution_count": 15,
     "metadata": {},
     "output_type": "execute_result"
    }
   ],
   "source": [
    "#Spelling correction\n",
    "#Removal short words (length < 3)\n",
    "correct_tweets = []\n",
    "for tweet in standard_tweets : \n",
    "    correct_list = []\n",
    "    word_list = tweet.split(' ')\n",
    "\n",
    "    for word in word_list :\n",
    "        if len(word)>2:\n",
    "            correct_word = sp.correct(word)\n",
    "            correct_list.append(correct_word)\n",
    "\n",
    "    tweet = ' '.join(correct_list)\n",
    "    correct_tweets.append(tweet)\n",
    "\n",
    "correct_tweets"
   ]
  },
  {
   "cell_type": "code",
   "execution_count": 16,
   "metadata": {
    "collapsed": true
   },
   "outputs": [],
   "source": [
    "#Slangs lookup"
   ]
  },
  {
   "cell_type": "code",
   "execution_count": 17,
   "metadata": {},
   "outputs": [
    {
     "data": {
      "text/plain": [
       "['ordered recall vehicles malicious programming',\n",
       " 'actual fuck',\n",
       " 'latimes photos given english',\n",
       " 'seriously though fuck',\n",
       " 'audi accused using software cheat diesel emissions tests',\n",
       " 'Jorge-R-Ruiz audi accused using software cheat diesel emissions tests',\n",
       " 'beetle beetle classic convertible biden date friday',\n",
       " 'cheated emissions tests Environmental-Protection-Agency says installed software cheat emissions tests',\n",
       " 'cheated emissions tests Environmental-Protection-Agency says installed software cheat emissions tests unitedstates today chris woodyard rep',\n",
       " 'cheated emissions tests Environmental-Protection-Agency says installed software cheat emissions tests unitedstates tod',\n",
       " 'epa used defeat device illegally skirt air pollution controls washington post',\n",
       " 'cheated emissions tests Environmental-Protection-Agency says installed software cheat emissions tests unitedstates tod',\n",
       " 'cheated emissions tests Environmental-Protection-Agency says installed software cheat emissions tests unitedstates tod',\n",
       " 'news audi accused using software cheat diesel emissions tests open letter',\n",
       " 'committed massive pollution control fraud software turned pollution control autos',\n",
       " 'automobile audi accused using software cheat diesel emissions tests',\n",
       " 'automobile recall pollution hiding cars german carmaker volusia',\n",
       " 'recall cars accused installing software designed breach diesel mission rules',\n",
       " 'car company invented hitler caught secretly poisoning earth',\n",
       " 'audi accused using software cheat diesel emissions tests']"
      ]
     },
     "execution_count": 17,
     "metadata": {},
     "output_type": "execute_result"
    }
   ],
   "source": [
    "#Removal of Stop-words\n",
    "add_stopwords = ['http','https', 'www','blg','sep', 'iii', 'e.g.', 'i.e.', 'al.', 'com' , 'v.s.','bit','what','volkswagen','volkswagon','have','has','-PRON-','what','html','here','not']\n",
    "all_stopwords = stopwords.words('english')+add_stopwords\n",
    "\n",
    "non_stop_tweets = []\n",
    "for tweet in correct_tweets : \n",
    "    word_list = tweet.split(' ')\n",
    "    filtered_words = [word for word in word_list if word not in all_stopwords]\n",
    "    tweet = ' '.join(filtered_words)\n",
    "    non_stop_tweets.append(tweet)\n",
    "\n",
    "non_stop_tweets"
   ]
  },
  {
   "cell_type": "code",
   "execution_count": 18,
   "metadata": {},
   "outputs": [
    {
     "data": {
      "text/plain": [
       "[['ordered', 'recall', 'vehicles', 'malicious', 'programming'],\n",
       " ['actual', 'fuck'],\n",
       " ['latimes', 'photos', 'given', 'english'],\n",
       " ['seriously', 'though', 'fuck'],\n",
       " ['audi',\n",
       "  'accused',\n",
       "  'using',\n",
       "  'software',\n",
       "  'cheat',\n",
       "  'diesel',\n",
       "  'emissions',\n",
       "  'tests'],\n",
       " ['Jorge-R-Ruiz',\n",
       "  'audi',\n",
       "  'accused',\n",
       "  'using',\n",
       "  'software',\n",
       "  'cheat',\n",
       "  'diesel',\n",
       "  'emissions',\n",
       "  'tests'],\n",
       " ['beetle', 'beetle', 'classic', 'convertible', 'biden', 'date', 'friday'],\n",
       " ['cheated',\n",
       "  'emissions',\n",
       "  'tests',\n",
       "  'Environmental-Protection-Agency',\n",
       "  'says',\n",
       "  'installed',\n",
       "  'software',\n",
       "  'cheat',\n",
       "  'emissions',\n",
       "  'tests'],\n",
       " ['cheated',\n",
       "  'emissions',\n",
       "  'tests',\n",
       "  'Environmental-Protection-Agency',\n",
       "  'says',\n",
       "  'installed',\n",
       "  'software',\n",
       "  'cheat',\n",
       "  'emissions',\n",
       "  'tests',\n",
       "  'unitedstates',\n",
       "  'today',\n",
       "  'chris',\n",
       "  'woodyard',\n",
       "  'rep'],\n",
       " ['cheated',\n",
       "  'emissions',\n",
       "  'tests',\n",
       "  'Environmental-Protection-Agency',\n",
       "  'says',\n",
       "  'installed',\n",
       "  'software',\n",
       "  'cheat',\n",
       "  'emissions',\n",
       "  'tests',\n",
       "  'unitedstates',\n",
       "  'tod'],\n",
       " ['epa',\n",
       "  'used',\n",
       "  'defeat',\n",
       "  'device',\n",
       "  'illegally',\n",
       "  'skirt',\n",
       "  'air',\n",
       "  'pollution',\n",
       "  'controls',\n",
       "  'washington',\n",
       "  'post'],\n",
       " ['cheated',\n",
       "  'emissions',\n",
       "  'tests',\n",
       "  'Environmental-Protection-Agency',\n",
       "  'says',\n",
       "  'installed',\n",
       "  'software',\n",
       "  'cheat',\n",
       "  'emissions',\n",
       "  'tests',\n",
       "  'unitedstates',\n",
       "  'tod'],\n",
       " ['cheated',\n",
       "  'emissions',\n",
       "  'tests',\n",
       "  'Environmental-Protection-Agency',\n",
       "  'says',\n",
       "  'installed',\n",
       "  'software',\n",
       "  'cheat',\n",
       "  'emissions',\n",
       "  'tests',\n",
       "  'unitedstates',\n",
       "  'tod'],\n",
       " ['news',\n",
       "  'audi',\n",
       "  'accused',\n",
       "  'using',\n",
       "  'software',\n",
       "  'cheat',\n",
       "  'diesel',\n",
       "  'emissions',\n",
       "  'tests',\n",
       "  'open',\n",
       "  'letter'],\n",
       " ['committed',\n",
       "  'massive',\n",
       "  'pollution',\n",
       "  'control',\n",
       "  'fraud',\n",
       "  'software',\n",
       "  'turned',\n",
       "  'pollution',\n",
       "  'control',\n",
       "  'autos'],\n",
       " ['automobile',\n",
       "  'audi',\n",
       "  'accused',\n",
       "  'using',\n",
       "  'software',\n",
       "  'cheat',\n",
       "  'diesel',\n",
       "  'emissions',\n",
       "  'tests'],\n",
       " ['automobile',\n",
       "  'recall',\n",
       "  'pollution',\n",
       "  'hiding',\n",
       "  'cars',\n",
       "  'german',\n",
       "  'carmaker',\n",
       "  'volusia'],\n",
       " ['recall',\n",
       "  'cars',\n",
       "  'accused',\n",
       "  'installing',\n",
       "  'software',\n",
       "  'designed',\n",
       "  'breach',\n",
       "  'diesel',\n",
       "  'mission',\n",
       "  'rules'],\n",
       " ['car',\n",
       "  'company',\n",
       "  'invented',\n",
       "  'hitler',\n",
       "  'caught',\n",
       "  'secretly',\n",
       "  'poisoning',\n",
       "  'earth'],\n",
       " ['audi',\n",
       "  'accused',\n",
       "  'using',\n",
       "  'software',\n",
       "  'cheat',\n",
       "  'diesel',\n",
       "  'emissions',\n",
       "  'tests']]"
      ]
     },
     "execution_count": 18,
     "metadata": {},
     "output_type": "execute_result"
    }
   ],
   "source": [
    "#Tokenization\n",
    "def wsp_tokenizer(text):\n",
    "    return text.split(\" \")\n",
    "\n",
    "wsp_tokens_tweets = []\n",
    "for tweet in non_stop_tweets : \n",
    "    tweet = wsp_tokenizer(tweet)\n",
    "    wsp_tokens_tweets.append(tweet)\n",
    "\n",
    "wsp_tokens_tweets"
   ]
  },
  {
   "cell_type": "code",
   "execution_count": 19,
   "metadata": {},
   "outputs": [
    {
     "name": "stderr",
     "output_type": "stream",
     "text": [
      "/Users/faten/anaconda3/lib/python3.6/site-packages/gensim/models/phrases.py:431: UserWarning: For a faster implementation, use the gensim.models.phrases.Phraser class\n",
      "  warnings.warn(\"For a faster implementation, use the gensim.models.phrases.Phraser class\")\n"
     ]
    },
    {
     "data": {
      "text/plain": [
       "[['ordered', 'recall', 'vehicles', 'malicious', 'programming'],\n",
       " ['actual', 'fuck'],\n",
       " ['latimes', 'photos', 'given', 'english'],\n",
       " ['seriously', 'though', 'fuck'],\n",
       " ['audi',\n",
       "  'accused',\n",
       "  'using',\n",
       "  'software',\n",
       "  'cheat',\n",
       "  'diesel',\n",
       "  'emissions',\n",
       "  'tests'],\n",
       " ['Jorge-R-Ruiz',\n",
       "  'audi',\n",
       "  'accused',\n",
       "  'using',\n",
       "  'software',\n",
       "  'cheat',\n",
       "  'diesel',\n",
       "  'emissions',\n",
       "  'tests'],\n",
       " ['beetle', 'beetle', 'classic', 'convertible', 'biden', 'date', 'friday'],\n",
       " ['cheated',\n",
       "  'emissions',\n",
       "  'tests',\n",
       "  'Environmental-Protection-Agency',\n",
       "  'says',\n",
       "  'installed',\n",
       "  'software',\n",
       "  'cheat',\n",
       "  'emissions',\n",
       "  'tests'],\n",
       " ['cheated',\n",
       "  'emissions',\n",
       "  'tests',\n",
       "  'Environmental-Protection-Agency',\n",
       "  'says',\n",
       "  'installed',\n",
       "  'software',\n",
       "  'cheat',\n",
       "  'emissions',\n",
       "  'tests',\n",
       "  'unitedstates',\n",
       "  'today',\n",
       "  'chris',\n",
       "  'woodyard',\n",
       "  'rep'],\n",
       " ['cheated',\n",
       "  'emissions',\n",
       "  'tests',\n",
       "  'Environmental-Protection-Agency',\n",
       "  'says',\n",
       "  'installed',\n",
       "  'software',\n",
       "  'cheat',\n",
       "  'emissions',\n",
       "  'tests',\n",
       "  'unitedstates',\n",
       "  'tod'],\n",
       " ['epa',\n",
       "  'used',\n",
       "  'defeat',\n",
       "  'device',\n",
       "  'illegally',\n",
       "  'skirt',\n",
       "  'air',\n",
       "  'pollution',\n",
       "  'controls',\n",
       "  'washington',\n",
       "  'post'],\n",
       " ['cheated',\n",
       "  'emissions',\n",
       "  'tests',\n",
       "  'Environmental-Protection-Agency',\n",
       "  'says',\n",
       "  'installed',\n",
       "  'software',\n",
       "  'cheat',\n",
       "  'emissions',\n",
       "  'tests',\n",
       "  'unitedstates',\n",
       "  'tod'],\n",
       " ['cheated',\n",
       "  'emissions',\n",
       "  'tests',\n",
       "  'Environmental-Protection-Agency',\n",
       "  'says',\n",
       "  'installed',\n",
       "  'software',\n",
       "  'cheat',\n",
       "  'emissions',\n",
       "  'tests',\n",
       "  'unitedstates',\n",
       "  'tod'],\n",
       " ['news',\n",
       "  'audi',\n",
       "  'accused',\n",
       "  'using',\n",
       "  'software',\n",
       "  'cheat',\n",
       "  'diesel',\n",
       "  'emissions',\n",
       "  'tests',\n",
       "  'open',\n",
       "  'letter'],\n",
       " ['committed',\n",
       "  'massive',\n",
       "  'pollution',\n",
       "  'control',\n",
       "  'fraud',\n",
       "  'software',\n",
       "  'turned',\n",
       "  'pollution',\n",
       "  'control',\n",
       "  'autos'],\n",
       " ['automobile',\n",
       "  'audi',\n",
       "  'accused',\n",
       "  'using',\n",
       "  'software',\n",
       "  'cheat',\n",
       "  'diesel',\n",
       "  'emissions',\n",
       "  'tests'],\n",
       " ['automobile',\n",
       "  'recall',\n",
       "  'pollution',\n",
       "  'hiding',\n",
       "  'cars',\n",
       "  'german',\n",
       "  'carmaker',\n",
       "  'volusia'],\n",
       " ['recall',\n",
       "  'cars',\n",
       "  'accused',\n",
       "  'installing',\n",
       "  'software',\n",
       "  'designed',\n",
       "  'breach',\n",
       "  'diesel',\n",
       "  'mission',\n",
       "  'rules'],\n",
       " ['car',\n",
       "  'company',\n",
       "  'invented',\n",
       "  'hitler',\n",
       "  'caught',\n",
       "  'secretly',\n",
       "  'poisoning',\n",
       "  'earth'],\n",
       " ['audi',\n",
       "  'accused',\n",
       "  'using',\n",
       "  'software',\n",
       "  'cheat',\n",
       "  'diesel',\n",
       "  'emissions',\n",
       "  'tests']]"
      ]
     },
     "execution_count": 19,
     "metadata": {},
     "output_type": "execute_result"
    }
   ],
   "source": [
    "#Bigram Detection\n",
    "bigram = gensim.models.Phrases(wsp_tokens_tweets)\n",
    "texts = [bigram[line] for line in wsp_tokens_tweets]\n",
    "texts"
   ]
  }
 ],
 "metadata": {
  "kernelspec": {
   "display_name": "Python 3",
   "language": "python",
   "name": "python3"
  },
  "language_info": {
   "codemirror_mode": {
    "name": "ipython",
    "version": 3
   },
   "file_extension": ".py",
   "mimetype": "text/x-python",
   "name": "python",
   "nbconvert_exporter": "python",
   "pygments_lexer": "ipython3",
   "version": "3.6.3"
  }
 },
 "nbformat": 4,
 "nbformat_minor": 2
}
